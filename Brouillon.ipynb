{
 "cells": [
  {
   "cell_type": "code",
   "execution_count": 1,
   "id": "19b07c6b",
   "metadata": {},
   "outputs": [
    {
     "ename": "ModuleNotFoundError",
     "evalue": "No module named 'pandas'",
     "output_type": "error",
     "traceback": [
      "\u001b[31m---------------------------------------------------------------------------\u001b[39m",
      "\u001b[31mModuleNotFoundError\u001b[39m                       Traceback (most recent call last)",
      "\u001b[36mCell\u001b[39m\u001b[36m \u001b[39m\u001b[32mIn[1]\u001b[39m\u001b[32m, line 1\u001b[39m\n\u001b[32m----> \u001b[39m\u001b[32m1\u001b[39m \u001b[38;5;28;01mimport\u001b[39;00m\u001b[38;5;250m \u001b[39m\u001b[34;01mpandas\u001b[39;00m\u001b[38;5;250m \u001b[39m\u001b[38;5;28;01mas\u001b[39;00m\u001b[38;5;250m \u001b[39m\u001b[34;01mpd\u001b[39;00m\n",
      "\u001b[31mModuleNotFoundError\u001b[39m: No module named 'pandas'"
     ]
    }
   ],
   "source": [
    "import pandas as pd"
   ]
  },
  {
   "cell_type": "code",
   "execution_count": 16,
   "id": "168e335d",
   "metadata": {},
   "outputs": [],
   "source": [
    "dataset = pd.read_csv(\"dataset.tsv\", sep=\"\\t\")"
   ]
  },
  {
   "cell_type": "code",
   "execution_count": null,
   "id": "da36d0f3",
   "metadata": {},
   "outputs": [],
   "source": [
    "for index,rows in dataset.iterrows():\n",
    "    print(f\"index : {index}\")\n",
    "    print(f\"rows : \\n{rows[0]}\\n\")"
   ]
  },
  {
   "cell_type": "code",
   "execution_count": null,
   "id": "6375b0e4",
   "metadata": {},
   "outputs": [],
   "source": [
    "for rows in dataset.itertuples():\n",
    "    print(f\"rows : \\n{rows[1]}\\n\")"
   ]
  },
  {
   "cell_type": "code",
   "execution_count": 47,
   "id": "8ea212cd",
   "metadata": {},
   "outputs": [
    {
     "name": "stdout",
     "output_type": "stream",
     "text": [
      "['C:\\\\Users\\\\WMZY6987\\\\OneDrive - orange.com\\\\Documents\\\\projet_trasncription\\\\audio_only\\\\Alice_Cherviel_F_28_17e.mp3', 'C:\\\\Users\\\\WMZY6987\\\\OneDrive - orange.com\\\\Documents\\\\projet_trasncription\\\\audio_only\\\\Andre-Morange.mp3', 'C:\\\\Users\\\\WMZY6987\\\\OneDrive - orange.com\\\\Documents\\\\projet_trasncription\\\\audio_only\\\\Anita_MUSSO_F_46_11e.mp3', 'C:\\\\Users\\\\WMZY6987\\\\OneDrive - orange.com\\\\Documents\\\\projet_trasncription\\\\audio_only\\\\Assia-Berrada-F-49_Ivry-1-v2.mp3', 'C:\\\\Users\\\\WMZY6987\\\\OneDrive - orange.com\\\\Documents\\\\projet_trasncription\\\\audio_only\\\\Assia-Berrada-F-49_Ivry-2-v2.mp3', 'C:\\\\Users\\\\WMZY6987\\\\OneDrive - orange.com\\\\Documents\\\\projet_trasncription\\\\audio_only\\\\Aude_Lamoulie_F_32_Constance_Lamoulie_F_37_13e.mp3', 'C:\\\\Users\\\\WMZY6987\\\\OneDrive - orange.com\\\\Documents\\\\projet_trasncription\\\\audio_only\\\\Aureane_Lhuisser_F_29_Pierre-Fabien_Benoit_H_29_18e.mp3', 'C:\\\\Users\\\\WMZY6987\\\\OneDrive - orange.com\\\\Documents\\\\projet_trasncription\\\\audio_only\\\\Benedicte_Lefebure_F_30-Sylvain_Lefebure_H_27_ER.mp3', 'C:\\\\Users\\\\WMZY6987\\\\OneDrive - orange.com\\\\Documents\\\\projet_trasncription\\\\audio_only\\\\Blanche_Duchemin_Jean_Pierre_Duchemin_Reine_Ceret.mp3', 'C:\\\\Users\\\\WMZY6987\\\\OneDrive - orange.com\\\\Documents\\\\projet_trasncription\\\\audio_only\\\\Capucine_Mollard_F_46_Diego_Arriola_H_50_13e.mp3', 'C:\\\\Users\\\\WMZY6987\\\\OneDrive - orange.com\\\\Documents\\\\projet_trasncription\\\\audio_only\\\\Catherine_Lecuyer_F_39_SO-v2.mp3', 'C:\\\\Users\\\\WMZY6987\\\\OneDrive - orange.com\\\\Documents\\\\projet_trasncription\\\\audio_only\\\\Christophe_Andre_H_62_Marie_Anne_Andre_F_63_5e.mp3', 'C:\\\\Users\\\\WMZY6987\\\\OneDrive - orange.com\\\\Documents\\\\projet_trasncription\\\\audio_only\\\\Dai-Dahn_H_18_Lauriane_F_15_13e.mp3', 'C:\\\\Users\\\\WMZY6987\\\\OneDrive - orange.com\\\\Documents\\\\projet_trasncription\\\\audio_only\\\\Didier_Pujade_H_36_13e-v2.mp3', 'C:\\\\Users\\\\WMZY6987\\\\OneDrive - orange.com\\\\Documents\\\\projet_trasncription\\\\audio_only\\\\Dominique_Valin_F_37_SU.mp3', 'C:\\\\Users\\\\WMZY6987\\\\OneDrive - orange.com\\\\Documents\\\\projet_trasncription\\\\audio_only\\\\Edouard_Merkus_H_48_15e.mp3', 'C:\\\\Users\\\\WMZY6987\\\\OneDrive - orange.com\\\\Documents\\\\projet_trasncription\\\\audio_only\\\\Gabriel-Pujade_13e.mp3', 'C:\\\\Users\\\\WMZY6987\\\\OneDrive - orange.com\\\\Documents\\\\projet_trasncription\\\\audio_only\\\\Gary_Collard_H_24_20e.mp3', 'C:\\\\Users\\\\WMZY6987\\\\OneDrive - orange.com\\\\Documents\\\\projet_trasncription\\\\audio_only\\\\Guylaine_Duprat_F_29_Bag.mp3', 'C:\\\\Users\\\\WMZY6987\\\\OneDrive - orange.com\\\\Documents\\\\projet_trasncription\\\\audio_only\\\\Ian_Krachski_H_80_Monica_Richarska_F_75-13e.mp3', 'C:\\\\Users\\\\WMZY6987\\\\OneDrive - orange.com\\\\Documents\\\\projet_trasncription\\\\audio_only\\\\Isabelle-Menard_F_69_13e.mp3', 'C:\\\\Users\\\\WMZY6987\\\\OneDrive - orange.com\\\\Documents\\\\projet_trasncription\\\\audio_only\\\\Isabelle_Legrand_F_32_Anne-Lies_Simo-Groen_F_30_RO.mp3', 'C:\\\\Users\\\\WMZY6987\\\\OneDrive - orange.com\\\\Documents\\\\projet_trasncription\\\\audio_only\\\\Jacqueline_Pelletier_F_65_Ivry.mp3', 'C:\\\\Users\\\\WMZY6987\\\\OneDrive - orange.com\\\\Documents\\\\projet_trasncription\\\\audio_only\\\\JEAN-FREDERIC_SCHMIDT_H_70_MONETTE_SCHMIDT_F_69_17e.mp3', 'C:\\\\Users\\\\WMZY6987\\\\OneDrive - orange.com\\\\Documents\\\\projet_trasncription\\\\audio_only\\\\Jean-Luc_Ardoin_H_57_SO.mp3', 'C:\\\\Users\\\\WMZY6987\\\\OneDrive - orange.com\\\\Documents\\\\projet_trasncription\\\\audio_only\\\\Josephine_Le_Coat_F_47-13e.mp3', 'C:\\\\Users\\\\WMZY6987\\\\OneDrive - orange.com\\\\Documents\\\\projet_trasncription\\\\audio_only\\\\Julie_F_18_et_Katia-F_15_Teixeira_11e.mp3', 'C:\\\\Users\\\\WMZY6987\\\\OneDrive - orange.com\\\\Documents\\\\projet_trasncription\\\\audio_only\\\\Killian_Belamy_Lucas_Hermano_11.mp3', 'C:\\\\Users\\\\WMZY6987\\\\OneDrive - orange.com\\\\Documents\\\\projet_trasncription\\\\audio_only\\\\Laurence_Leblond_F_43_Stephanie_Zanotti_F_49_7e-1.mp3', 'C:\\\\Users\\\\WMZY6987\\\\OneDrive - orange.com\\\\Documents\\\\projet_trasncription\\\\audio_only\\\\Laurence_Leblond_F_43_Stephanie_Zanotti_F_49_7e-2.mp3', 'C:\\\\Users\\\\WMZY6987\\\\OneDrive - orange.com\\\\Documents\\\\projet_trasncription\\\\audio_only\\\\Lea_Samvarian_F_55_2e.mp3', 'C:\\\\Users\\\\WMZY6987\\\\OneDrive - orange.com\\\\Documents\\\\projet_trasncription\\\\audio_only\\\\Louise_Liotard_F_85_et_Jeanne_Mallet_F_75_SO-1.mp3', 'C:\\\\Users\\\\WMZY6987\\\\OneDrive - orange.com\\\\Documents\\\\projet_trasncription\\\\audio_only\\\\Louise_Liotard_F_85_et_Jeanne_Mallet_F_75_SO-2.mp3', 'C:\\\\Users\\\\WMZY6987\\\\OneDrive - orange.com\\\\Documents\\\\projet_trasncription\\\\audio_only\\\\Lucie_da_Silva_F_22_7e.mp3', 'C:\\\\Users\\\\WMZY6987\\\\OneDrive - orange.com\\\\Documents\\\\projet_trasncription\\\\audio_only\\\\Marc-Jakobson_H_83_16e.mp3', 'C:\\\\Users\\\\WMZY6987\\\\OneDrive - orange.com\\\\Documents\\\\projet_trasncription\\\\audio_only\\\\Marie-Adeline_Brochard_F_52_13e.mp3', 'C:\\\\Users\\\\WMZY6987\\\\OneDrive - orange.com\\\\Documents\\\\projet_trasncription\\\\audio_only\\\\Marie_Helene_Matera_F_67_Mo-1.mp3', 'C:\\\\Users\\\\WMZY6987\\\\OneDrive - orange.com\\\\Documents\\\\projet_trasncription\\\\audio_only\\\\Marie_Helene_Matera_F_67_Mo-2.mp3', 'C:\\\\Users\\\\WMZY6987\\\\OneDrive - orange.com\\\\Documents\\\\projet_trasncription\\\\audio_only\\\\Mathieu_Rosier_H_28_Elisa_Rysnik_F_26_12e.mp3', 'C:\\\\Users\\\\WMZY6987\\\\OneDrive - orange.com\\\\Documents\\\\projet_trasncription\\\\audio_only\\\\Mathilde_Lelong_F_85_Marie_Louise_Orsin_F_11e.mp3', 'C:\\\\Users\\\\WMZY6987\\\\OneDrive - orange.com\\\\Documents\\\\projet_trasncription\\\\audio_only\\\\Mathis_H_19_Delphine_F_16_Alienor_F_15_Ch.mp3', 'C:\\\\Users\\\\WMZY6987\\\\OneDrive - orange.com\\\\Documents\\\\projet_trasncription\\\\audio_only\\\\Menard_Catherine_F_36_13e-v2.mp3', 'C:\\\\Users\\\\WMZY6987\\\\OneDrive - orange.com\\\\Documents\\\\projet_trasncription\\\\audio_only\\\\Mira_F_88_14e.mp3', 'C:\\\\Users\\\\WMZY6987\\\\OneDrive - orange.com\\\\Documents\\\\projet_trasncription\\\\audio_only\\\\Monique_Chaslon_F_53_frederic_chaslon_52_Ivry.mp3', 'C:\\\\Users\\\\WMZY6987\\\\OneDrive - orange.com\\\\Documents\\\\projet_trasncription\\\\audio_only\\\\Morel_Paul_H_71_Morel_Amandine_F_67_15e-v2.mp3', 'C:\\\\Users\\\\WMZY6987\\\\OneDrive - orange.com\\\\Documents\\\\projet_trasncription\\\\audio_only\\\\Nicole-NOROY_1.mp3', 'C:\\\\Users\\\\WMZY6987\\\\OneDrive - orange.com\\\\Documents\\\\projet_trasncription\\\\audio_only\\\\Nicole-NOROY_2.mp3', 'C:\\\\Users\\\\WMZY6987\\\\OneDrive - orange.com\\\\Documents\\\\projet_trasncription\\\\audio_only\\\\Ozgur_Kilic_H_32_alii_3e-2.mp3', 'C:\\\\Users\\\\WMZY6987\\\\OneDrive - orange.com\\\\Documents\\\\projet_trasncription\\\\audio_only\\\\Ozgur_Kilic_H_32_alii_3e.mp3', 'C:\\\\Users\\\\WMZY6987\\\\OneDrive - orange.com\\\\Documents\\\\projet_trasncription\\\\audio_only\\\\Pauline_de_Bordes_F_63.mp3', 'C:\\\\Users\\\\WMZY6987\\\\OneDrive - orange.com\\\\Documents\\\\projet_trasncription\\\\audio_only\\\\Paul_Simo_20_Pierre_Marie-Simo_M_34-18e.mp3', 'C:\\\\Users\\\\WMZY6987\\\\OneDrive - orange.com\\\\Documents\\\\projet_trasncription\\\\audio_only\\\\Pierre_Beysson_H_59_Marie_Beysson_F_X_12e.mp3', 'C:\\\\Users\\\\WMZY6987\\\\OneDrive - orange.com\\\\Documents\\\\projet_trasncription\\\\audio_only\\\\Raphael_Lariviere_H_23_7e.mp3', 'C:\\\\Users\\\\WMZY6987\\\\OneDrive - orange.com\\\\Documents\\\\projet_trasncription\\\\audio_only\\\\Rosemonde_Ehrard_60_et_Patrick_Bernard_49_7e.mp3', 'C:\\\\Users\\\\WMZY6987\\\\OneDrive - orange.com\\\\Documents\\\\projet_trasncription\\\\audio_only\\\\Rosier_Bernard_H_60_Rosier_Micheline_58.mp3', 'C:\\\\Users\\\\WMZY6987\\\\OneDrive - orange.com\\\\Documents\\\\projet_trasncription\\\\audio_only\\\\Therese_Le_Vern_F_70_Valentine_Testanier_F_60_12e.mp3', 'C:\\\\Users\\\\WMZY6987\\\\OneDrive - orange.com\\\\Documents\\\\projet_trasncription\\\\audio_only\\\\Youcef_Zerari_H_29_Abdel_Hachim_H_25_SO.mp3', 'C:\\\\Users\\\\WMZY6987\\\\OneDrive - orange.com\\\\Documents\\\\projet_trasncription\\\\audio_only\\\\Younes_Belkacem_H_59_Mo.mp3', 'C:\\\\Users\\\\WMZY6987\\\\OneDrive - orange.com\\\\Documents\\\\projet_trasncription\\\\audio_only\\\\Yvette_Audin_F_70_7e.mp3']\n"
     ]
    }
   ],
   "source": [
    "file = []\n",
    "for rows in dataset.itertuples():\n",
    "    file.append(rf\"C:\\Users\\WMZY6987\\OneDrive - orange.com\\Documents\\projet_trasncription\\audio_only\\{rows[1]}\")\n",
    "        \n",
    "print(file)"
   ]
  },
  {
   "cell_type": "code",
   "execution_count": null,
   "id": "ba2eec67",
   "metadata": {},
   "outputs": [
    {
     "name": "stdout",
     "output_type": "stream",
     "text": [
      "0.5\n"
     ]
    }
   ],
   "source": [
    "from jiwer import wer\n",
    "\n",
    "reference = \"hello world\"\n",
    "hypothesis = \"hella world\"\n",
    "\n",
    "error = wer(reference, hypothesis)\n",
    "print(error)\n",
    "\n",
    "#   0     0,5     1,0"
   ]
  },
  {
   "cell_type": "code",
   "execution_count": 60,
   "id": "c24beb06",
   "metadata": {},
   "outputs": [
    {
     "name": "stdout",
     "output_type": "stream",
     "text": [
      "0.5\n"
     ]
    }
   ],
   "source": [
    "import jiwer\n",
    "\n",
    "reference = \"hello world\"\n",
    "hypothesis = \"hello duck\"\n",
    "\n",
    "wer = jiwer.wer(reference, hypothesis)\n",
    "mer = jiwer.mer(reference, hypothesis)\n",
    "wil = jiwer.wil(reference, hypothesis)\n",
    "\n",
    "# faster, because `process_words` only needs to perform the heavy lifting once:\n",
    "output = jiwer.process_words(reference, hypothesis)\n",
    "wer = output.wer\n",
    "mer = output.mer\n",
    "wil = output.wil\n",
    "\n",
    "print(mer)"
   ]
  },
  {
   "cell_type": "code",
   "execution_count": null,
   "id": "c3514ba5",
   "metadata": {},
   "outputs": [
    {
     "name": "stdout",
     "output_type": "stream",
     "text": [
      "0.17647058823529413\n"
     ]
    }
   ],
   "source": [
    "import jiwer\n",
    "\n",
    "reference = [\"i can spell\", \"i hope\"]\n",
    "hypothesis = [\"i kan cpell\", \"i hop\"]\n",
    "\n",
    "error = jiwer.cer(reference, hypothesis)\n",
    "print(error)\n"
   ]
  },
  {
   "cell_type": "code",
   "execution_count": null,
   "id": "cdd1baf9",
   "metadata": {},
   "outputs": [
    {
     "ename": "KeyError",
     "evalue": "'MQVyNKfUxRaAhbewjq1rEiGpAgwD1K9Y'",
     "output_type": "error",
     "traceback": [
      "\u001b[31m---------------------------------------------------------------------------\u001b[39m",
      "\u001b[31mKeyError\u001b[39m                                  Traceback (most recent call last)",
      "\u001b[36mCell\u001b[39m\u001b[36m \u001b[39m\u001b[32mIn[4]\u001b[39m\u001b[32m, line 10\u001b[39m\n\u001b[32m      5\u001b[39m \u001b[38;5;28;01mimport\u001b[39;00m\u001b[38;5;250m \u001b[39m\u001b[34;01mos\u001b[39;00m\n\u001b[32m      6\u001b[39m \u001b[38;5;28;01mfrom\u001b[39;00m\u001b[38;5;250m \u001b[39m\u001b[34;01mmistralai\u001b[39;00m\u001b[38;5;250m \u001b[39m\u001b[38;5;28;01mimport\u001b[39;00m Mistral\n\u001b[32m---> \u001b[39m\u001b[32m10\u001b[39m api_key = \u001b[43mos\u001b[49m\u001b[43m.\u001b[49m\u001b[43menviron\u001b[49m\u001b[43m[\u001b[49m\u001b[33;43m\"\u001b[39;49m\u001b[33;43mMQVyNKfUxRaAhbewjq1rEiGpAgwD1K9Y\u001b[39;49m\u001b[33;43m\"\u001b[39;49m\u001b[43m]\u001b[49m\n\u001b[32m     11\u001b[39m model = \u001b[33m\"\u001b[39m\u001b[33mvoxtral-mini-2507\u001b[39m\u001b[33m\"\u001b[39m\n\u001b[32m     12\u001b[39m client = Mistral(api_key=api_key)\n",
      "\u001b[36mFile \u001b[39m\u001b[32m<frozen os>:717\u001b[39m, in \u001b[36m__getitem__\u001b[39m\u001b[34m(self, key)\u001b[39m\n",
      "\u001b[31mKeyError\u001b[39m: 'MQVyNKfUxRaAhbewjq1rEiGpAgwD1K9Y'"
     ]
    }
   ],
   "source": [
    "import pandas as pd\n",
    "import time\n",
    "import jiwer\n",
    "import openai\n",
    "import os\n",
    "from mistralai import Mistral\n",
    "import requests\n",
    "\n",
    "\n",
    "\n",
    "api_key = os.environ[\"MQVyNKfUxRaAhbewjq1rEiGpAgwD1K9Y\"]\n",
    "model = \"voxtral-mini-2507\"\n",
    "client = Mistral(api_key=api_key)\n",
    "url = \"https://api.mistral.ai/v1/audio/transcriptions\"\n",
    "\n",
    "with open(fr\"C:\\Users\\WMZY6987\\OneDrive - orange.com\\Documents\\projet_trasncription\\audio_only\\{filename}\",\"rb\") as audio_file:\n",
    "    files = {\"file\" : audio_file}\n",
    "    data = {\n",
    "        \"model\" : model,\n",
    "        \"language\" : \"fr\"\n",
    "    }\n",
    "    headers = {\"Authorization\": f\"Bearer {api_key}\"}\n",
    "\n",
    "    response = requests.post(url, headers=headers, files=files, data=data)\n",
    "    response.raise_for_status()\n",
    "    result = resp.json()\n",
    "    return result.get(\"text\", \"\")"
   ]
  },
  {
   "cell_type": "code",
   "execution_count": null,
   "id": "45771d45",
   "metadata": {},
   "outputs": [],
   "source": []
  },
  {
   "cell_type": "code",
   "execution_count": null,
   "id": "08bfd2eb",
   "metadata": {},
   "outputs": [],
   "source": []
  }
 ],
 "metadata": {
  "kernelspec": {
   "display_name": "Python 3",
   "language": "python",
   "name": "python3"
  },
  "language_info": {
   "codemirror_mode": {
    "name": "ipython",
    "version": 3
   },
   "file_extension": ".py",
   "mimetype": "text/x-python",
   "name": "python",
   "nbconvert_exporter": "python",
   "pygments_lexer": "ipython3",
   "version": "3.13.6"
  }
 },
 "nbformat": 4,
 "nbformat_minor": 5
}
